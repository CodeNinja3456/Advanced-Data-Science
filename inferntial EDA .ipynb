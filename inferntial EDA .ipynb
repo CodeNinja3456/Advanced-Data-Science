{
 "cells": [
  {
   "cell_type": "code",
   "execution_count": 14,
   "metadata": {},
   "outputs": [
    {
     "data": {
      "text/html": [
       "<div>\n",
       "<style scoped>\n",
       "    .dataframe tbody tr th:only-of-type {\n",
       "        vertical-align: middle;\n",
       "    }\n",
       "\n",
       "    .dataframe tbody tr th {\n",
       "        vertical-align: top;\n",
       "    }\n",
       "\n",
       "    .dataframe thead th {\n",
       "        text-align: right;\n",
       "    }\n",
       "</style>\n",
       "<table border=\"1\" class=\"dataframe\">\n",
       "  <thead>\n",
       "    <tr style=\"text-align: right;\">\n",
       "      <th></th>\n",
       "      <th>Unnamed: 0</th>\n",
       "      <th>ids</th>\n",
       "      <th>bday</th>\n",
       "      <th>enrolldate</th>\n",
       "      <th>expgradate</th>\n",
       "      <th>Rank</th>\n",
       "      <th>Major</th>\n",
       "      <th>Gender</th>\n",
       "      <th>Athlete</th>\n",
       "      <th>Height</th>\n",
       "      <th>...</th>\n",
       "      <th>Writing</th>\n",
       "      <th>State</th>\n",
       "      <th>LiveOnCampus</th>\n",
       "      <th>HowCommute</th>\n",
       "      <th>CommuteTime</th>\n",
       "      <th>SleepTime</th>\n",
       "      <th>StudyTime</th>\n",
       "      <th>enrolldate</th>\n",
       "      <th>Score</th>\n",
       "      <th>BMI</th>\n",
       "    </tr>\n",
       "  </thead>\n",
       "  <tbody>\n",
       "    <tr>\n",
       "      <th>0</th>\n",
       "      <td>0</td>\n",
       "      <td>43783</td>\n",
       "      <td>1995-03-22</td>\n",
       "      <td>2000-01-01</td>\n",
       "      <td>2000-01-01</td>\n",
       "      <td>unknown</td>\n",
       "      <td>unknown</td>\n",
       "      <td>Male</td>\n",
       "      <td>0</td>\n",
       "      <td>0.833561</td>\n",
       "      <td>...</td>\n",
       "      <td>81.440000</td>\n",
       "      <td>In state</td>\n",
       "      <td>on campus</td>\n",
       "      <td>Public Transport</td>\n",
       "      <td>27.0</td>\n",
       "      <td>7.0</td>\n",
       "      <td>1.0</td>\n",
       "      <td>2000-01-01</td>\n",
       "      <td>311.200000</td>\n",
       "      <td>0.034584</td>\n",
       "    </tr>\n",
       "    <tr>\n",
       "      <th>1</th>\n",
       "      <td>1</td>\n",
       "      <td>20278</td>\n",
       "      <td>1995-01-01</td>\n",
       "      <td>2000-01-01</td>\n",
       "      <td>2000-01-01</td>\n",
       "      <td>unknown</td>\n",
       "      <td>Philosophy</td>\n",
       "      <td>Male</td>\n",
       "      <td>0</td>\n",
       "      <td>0.814091</td>\n",
       "      <td>...</td>\n",
       "      <td>73.270000</td>\n",
       "      <td>unknown</td>\n",
       "      <td>on campus</td>\n",
       "      <td>Public Transport</td>\n",
       "      <td>27.0</td>\n",
       "      <td>5.0</td>\n",
       "      <td>2.0</td>\n",
       "      <td>2000-01-01</td>\n",
       "      <td>318.160000</td>\n",
       "      <td>0.035891</td>\n",
       "    </tr>\n",
       "    <tr>\n",
       "      <th>2</th>\n",
       "      <td>2</td>\n",
       "      <td>20389</td>\n",
       "      <td>1994-12-31</td>\n",
       "      <td>2000-01-01</td>\n",
       "      <td>2000-01-01</td>\n",
       "      <td>unknown</td>\n",
       "      <td>unknown</td>\n",
       "      <td>Male</td>\n",
       "      <td>0</td>\n",
       "      <td>0.814321</td>\n",
       "      <td>...</td>\n",
       "      <td>84.240000</td>\n",
       "      <td>In state</td>\n",
       "      <td>unknown</td>\n",
       "      <td>Public Transport</td>\n",
       "      <td>27.0</td>\n",
       "      <td>8.0</td>\n",
       "      <td>7.0</td>\n",
       "      <td>2000-01-01</td>\n",
       "      <td>339.050000</td>\n",
       "      <td>0.039738</td>\n",
       "    </tr>\n",
       "    <tr>\n",
       "      <th>3</th>\n",
       "      <td>3</td>\n",
       "      <td>22820</td>\n",
       "      <td>1994-12-01</td>\n",
       "      <td>2000-01-01</td>\n",
       "      <td>2000-01-01</td>\n",
       "      <td>unknown</td>\n",
       "      <td>business administration</td>\n",
       "      <td>Female</td>\n",
       "      <td>0</td>\n",
       "      <td>0.783810</td>\n",
       "      <td>...</td>\n",
       "      <td>73.160000</td>\n",
       "      <td>In state</td>\n",
       "      <td>on campus</td>\n",
       "      <td>Public Transport</td>\n",
       "      <td>27.0</td>\n",
       "      <td>2.0</td>\n",
       "      <td>6.0</td>\n",
       "      <td>2000-01-01</td>\n",
       "      <td>291.790000</td>\n",
       "      <td>0.042854</td>\n",
       "    </tr>\n",
       "    <tr>\n",
       "      <th>4</th>\n",
       "      <td>4</td>\n",
       "      <td>24559</td>\n",
       "      <td>1994-11-10</td>\n",
       "      <td>2000-01-01</td>\n",
       "      <td>2000-01-01</td>\n",
       "      <td>unknown</td>\n",
       "      <td>unknown</td>\n",
       "      <td>Female</td>\n",
       "      <td>1</td>\n",
       "      <td>0.776877</td>\n",
       "      <td>...</td>\n",
       "      <td>80.450000</td>\n",
       "      <td>Out of state</td>\n",
       "      <td>on campus</td>\n",
       "      <td>Public Transport</td>\n",
       "      <td>27.0</td>\n",
       "      <td>7.0</td>\n",
       "      <td>3.0</td>\n",
       "      <td>2000-01-01</td>\n",
       "      <td>305.880000</td>\n",
       "      <td>0.028189</td>\n",
       "    </tr>\n",
       "    <tr>\n",
       "      <th>...</th>\n",
       "      <td>...</td>\n",
       "      <td>...</td>\n",
       "      <td>...</td>\n",
       "      <td>...</td>\n",
       "      <td>...</td>\n",
       "      <td>...</td>\n",
       "      <td>...</td>\n",
       "      <td>...</td>\n",
       "      <td>...</td>\n",
       "      <td>...</td>\n",
       "      <td>...</td>\n",
       "      <td>...</td>\n",
       "      <td>...</td>\n",
       "      <td>...</td>\n",
       "      <td>...</td>\n",
       "      <td>...</td>\n",
       "      <td>...</td>\n",
       "      <td>...</td>\n",
       "      <td>...</td>\n",
       "      <td>...</td>\n",
       "      <td>...</td>\n",
       "    </tr>\n",
       "    <tr>\n",
       "      <th>430</th>\n",
       "      <td>430</td>\n",
       "      <td>34021</td>\n",
       "      <td>1987-07-18</td>\n",
       "      <td>2011-08-01</td>\n",
       "      <td>2017-05-08</td>\n",
       "      <td>forth position</td>\n",
       "      <td>accounting</td>\n",
       "      <td>Female</td>\n",
       "      <td>0</td>\n",
       "      <td>0.783810</td>\n",
       "      <td>...</td>\n",
       "      <td>79.521683</td>\n",
       "      <td>In state</td>\n",
       "      <td>off campus</td>\n",
       "      <td>walking</td>\n",
       "      <td>18.0</td>\n",
       "      <td>1.0</td>\n",
       "      <td>10.0</td>\n",
       "      <td>2011-08-01</td>\n",
       "      <td>317.541683</td>\n",
       "      <td>0.039114</td>\n",
       "    </tr>\n",
       "    <tr>\n",
       "      <th>431</th>\n",
       "      <td>431</td>\n",
       "      <td>40697</td>\n",
       "      <td>1987-04-29</td>\n",
       "      <td>2011-08-01</td>\n",
       "      <td>2016-05-09</td>\n",
       "      <td>forth position</td>\n",
       "      <td>unknown</td>\n",
       "      <td>Male</td>\n",
       "      <td>0</td>\n",
       "      <td>0.789205</td>\n",
       "      <td>...</td>\n",
       "      <td>82.670000</td>\n",
       "      <td>In state</td>\n",
       "      <td>off campus</td>\n",
       "      <td>car</td>\n",
       "      <td>26.0</td>\n",
       "      <td>6.0</td>\n",
       "      <td>15.0</td>\n",
       "      <td>2011-08-01</td>\n",
       "      <td>330.800000</td>\n",
       "      <td>0.028114</td>\n",
       "    </tr>\n",
       "    <tr>\n",
       "      <th>432</th>\n",
       "      <td>432</td>\n",
       "      <td>34272</td>\n",
       "      <td>2000-01-01</td>\n",
       "      <td>2011-08-01</td>\n",
       "      <td>2016-05-09</td>\n",
       "      <td>forth position</td>\n",
       "      <td>nursing</td>\n",
       "      <td>Male</td>\n",
       "      <td>1</td>\n",
       "      <td>0.784596</td>\n",
       "      <td>...</td>\n",
       "      <td>81.870000</td>\n",
       "      <td>unknown</td>\n",
       "      <td>off campus</td>\n",
       "      <td>car</td>\n",
       "      <td>29.0</td>\n",
       "      <td>6.0</td>\n",
       "      <td>10.0</td>\n",
       "      <td>2011-08-01</td>\n",
       "      <td>306.840000</td>\n",
       "      <td>0.028047</td>\n",
       "    </tr>\n",
       "    <tr>\n",
       "      <th>433</th>\n",
       "      <td>433</td>\n",
       "      <td>33628</td>\n",
       "      <td>2000-01-01</td>\n",
       "      <td>2011-08-01</td>\n",
       "      <td>2017-05-08</td>\n",
       "      <td>forth position</td>\n",
       "      <td>Nursing</td>\n",
       "      <td>Female</td>\n",
       "      <td>1</td>\n",
       "      <td>0.798076</td>\n",
       "      <td>...</td>\n",
       "      <td>79.350000</td>\n",
       "      <td>In state</td>\n",
       "      <td>off campus</td>\n",
       "      <td>walking</td>\n",
       "      <td>14.0</td>\n",
       "      <td>4.0</td>\n",
       "      <td>10.0</td>\n",
       "      <td>2011-08-01</td>\n",
       "      <td>307.750000</td>\n",
       "      <td>0.032774</td>\n",
       "    </tr>\n",
       "    <tr>\n",
       "      <th>434</th>\n",
       "      <td>434</td>\n",
       "      <td>39298</td>\n",
       "      <td>2000-01-01</td>\n",
       "      <td>2011-08-01</td>\n",
       "      <td>2017-05-08</td>\n",
       "      <td>forth position</td>\n",
       "      <td>unknown</td>\n",
       "      <td>Female</td>\n",
       "      <td>1</td>\n",
       "      <td>0.768236</td>\n",
       "      <td>...</td>\n",
       "      <td>75.230000</td>\n",
       "      <td>In state</td>\n",
       "      <td>off campus</td>\n",
       "      <td>car</td>\n",
       "      <td>27.0</td>\n",
       "      <td>2.0</td>\n",
       "      <td>10.0</td>\n",
       "      <td>2011-08-01</td>\n",
       "      <td>288.360000</td>\n",
       "      <td>0.034261</td>\n",
       "    </tr>\n",
       "  </tbody>\n",
       "</table>\n",
       "<p>435 rows × 26 columns</p>\n",
       "</div>"
      ],
      "text/plain": [
       "     Unnamed: 0    ids        bday  enrolldate  expgradate            Rank  \\\n",
       "0             0  43783  1995-03-22  2000-01-01  2000-01-01         unknown   \n",
       "1             1  20278  1995-01-01  2000-01-01  2000-01-01         unknown   \n",
       "2             2  20389  1994-12-31  2000-01-01  2000-01-01         unknown   \n",
       "3             3  22820  1994-12-01  2000-01-01  2000-01-01         unknown   \n",
       "4             4  24559  1994-11-10  2000-01-01  2000-01-01         unknown   \n",
       "..          ...    ...         ...         ...         ...             ...   \n",
       "430         430  34021  1987-07-18  2011-08-01  2017-05-08  forth position   \n",
       "431         431  40697  1987-04-29  2011-08-01  2016-05-09  forth position   \n",
       "432         432  34272  2000-01-01  2011-08-01  2016-05-09  forth position   \n",
       "433         433  33628  2000-01-01  2011-08-01  2017-05-08  forth position   \n",
       "434         434  39298  2000-01-01  2011-08-01  2017-05-08  forth position   \n",
       "\n",
       "                       Major  Gender  Athlete    Height  ...    Writing  \\\n",
       "0                    unknown    Male        0  0.833561  ...  81.440000   \n",
       "1                 Philosophy    Male        0  0.814091  ...  73.270000   \n",
       "2                    unknown    Male        0  0.814321  ...  84.240000   \n",
       "3    business administration  Female        0  0.783810  ...  73.160000   \n",
       "4                    unknown  Female        1  0.776877  ...  80.450000   \n",
       "..                       ...     ...      ...       ...  ...        ...   \n",
       "430               accounting  Female        0  0.783810  ...  79.521683   \n",
       "431                  unknown    Male        0  0.789205  ...  82.670000   \n",
       "432                  nursing    Male        1  0.784596  ...  81.870000   \n",
       "433                  Nursing  Female        1  0.798076  ...  79.350000   \n",
       "434                  unknown  Female        1  0.768236  ...  75.230000   \n",
       "\n",
       "            State  LiveOnCampus        HowCommute  CommuteTime  SleepTime  \\\n",
       "0        In state     on campus  Public Transport         27.0        7.0   \n",
       "1         unknown     on campus  Public Transport         27.0        5.0   \n",
       "2        In state       unknown  Public Transport         27.0        8.0   \n",
       "3        In state     on campus  Public Transport         27.0        2.0   \n",
       "4    Out of state     on campus  Public Transport         27.0        7.0   \n",
       "..            ...           ...               ...          ...        ...   \n",
       "430      In state    off campus           walking         18.0        1.0   \n",
       "431      In state    off campus               car         26.0        6.0   \n",
       "432       unknown    off campus               car         29.0        6.0   \n",
       "433      In state    off campus           walking         14.0        4.0   \n",
       "434      In state    off campus               car         27.0        2.0   \n",
       "\n",
       "     StudyTime enrolldate        Score       BMI  \n",
       "0          1.0  2000-01-01  311.200000  0.034584  \n",
       "1          2.0  2000-01-01  318.160000  0.035891  \n",
       "2          7.0  2000-01-01  339.050000  0.039738  \n",
       "3          6.0  2000-01-01  291.790000  0.042854  \n",
       "4          3.0  2000-01-01  305.880000  0.028189  \n",
       "..         ...         ...         ...       ...  \n",
       "430       10.0  2011-08-01  317.541683  0.039114  \n",
       "431       15.0  2011-08-01  330.800000  0.028114  \n",
       "432       10.0  2011-08-01  306.840000  0.028047  \n",
       "433       10.0  2011-08-01  307.750000  0.032774  \n",
       "434       10.0  2011-08-01  288.360000  0.034261  \n",
       "\n",
       "[435 rows x 26 columns]"
      ]
     },
     "execution_count": 14,
     "metadata": {},
     "output_type": "execute_result"
    }
   ],
   "source": [
    "#collecting the dataset\n",
    "import pandas\n",
    "\n",
    "data=pandas.read_csv('cleanedDataset.csv')\n",
    "data"
   ]
  },
  {
   "cell_type": "code",
   "execution_count": 15,
   "metadata": {},
   "outputs": [
    {
     "name": "stdout",
     "output_type": "stream",
     "text": [
      "We do not have significant evidence to say that the mean english score for students is 50\n"
     ]
    }
   ],
   "source": [
    "#one sample t-test\n",
    "import scipy.stats as stats\n",
    "stats.ttest_1samp(a=data['English'],popmean=50)\n",
    "#statistics-this value tells you how many the std the sample mean(English mean) is from the population mean(50)\n",
    "#pvalue-this value helps you to determine the significance of the results ,ie if it is null or true.if it less than 0.05,then you reject the null hypothesis\n",
    "#df(degreee of freedom)-used to determine the critical t-value from the t-distribution and for intercepting the t-test results\n",
    "\n",
    "t_stat,p_value = stats.ttest_1samp(a=data['English'],popmean=50)\n",
    "if p_value<0.05:\n",
    "    print('We do not have significant evidence to say that the mean english score for students is 50')\n",
    "else:\n",
    "    print('Sample mean is not significantly different from the population mean')"
   ]
  },
  {
   "cell_type": "code",
   "execution_count": 16,
   "metadata": {},
   "outputs": [
    {
     "name": "stdout",
     "output_type": "stream",
     "text": [
      "The mean is equal/close to 65\n"
     ]
    }
   ],
   "source": [
    "stats.ttest_1samp(a=data['Math'],popmean=65)\n",
    "\n",
    "t_stat,p_value=stats.ttest_1samp(a=data['Math'],popmean=65)\n",
    "if p_value<0.05:\n",
    "    print('The mean is not equal to 65')\n",
    "else:\n",
    "    print('The mean is equal/close to 65')"
   ]
  },
  {
   "cell_type": "code",
   "execution_count": 17,
   "metadata": {},
   "outputs": [
    {
     "name": "stderr",
     "output_type": "stream",
     "text": [
      "/tmp/ipykernel_5728/2450301259.py:1: FutureWarning: A value is trying to be set on a copy of a DataFrame or Series through chained assignment using an inplace method.\n",
      "The behavior will change in pandas 3.0. This inplace method will never work because the intermediate object on which we are setting values always behaves as a copy.\n",
      "\n",
      "For example, when doing 'df[col].method(value, inplace=True)', try using 'df.method({col: value}, inplace=True)' or df[col] = df[col].method(value) instead, to perform the operation inplace on the original object.\n",
      "\n",
      "\n",
      "  data['Athlete'].replace({\n"
     ]
    }
   ],
   "source": [
    "data['Athlete'].replace({\n",
    "    0:'Athlete',\n",
    "    1:'Non Athlete'\n",
    "},inplace=True)"
   ]
  },
  {
   "cell_type": "code",
   "execution_count": 18,
   "metadata": {},
   "outputs": [
    {
     "name": "stdout",
     "output_type": "stream",
     "text": [
      "There is no significant difference in the avereage study time for athletes compared to non athletes\n"
     ]
    }
   ],
   "source": [
    "#Does being an athlete affect study timea\n",
    "athlete_study_time=data[data['Athlete']=='Athlete']['StudyTime']\n",
    "non_athlete_study_time=data[data['Athlete']=='Non Athlete']['StudyTime']\n",
    "\n",
    "#perform the independence double sample ttset\n",
    "t_stat,p_value=stats.ttest_ind(a= athlete_study_time,b=non_athlete_study_time)\n",
    "\n",
    "if p_value<0.05:\n",
    "    print('There is a significant difference in the avereage study time for athletes compared to non athletes')\n",
    "else:\n",
    "     print('There is no significant difference in the avereage study time for athletes compared to non athletes')\n",
    "\n",
    "\n"
   ]
  },
  {
   "cell_type": "code",
   "execution_count": 19,
   "metadata": {},
   "outputs": [
    {
     "name": "stderr",
     "output_type": "stream",
     "text": [
      "/tmp/ipykernel_5728/2341877134.py:1: FutureWarning: A value is trying to be set on a copy of a DataFrame or Series through chained assignment using an inplace method.\n",
      "The behavior will change in pandas 3.0. This inplace method will never work because the intermediate object on which we are setting values always behaves as a copy.\n",
      "\n",
      "For example, when doing 'df[col].method(value, inplace=True)', try using 'df.method({col: value}, inplace=True)' or df[col] = df[col].method(value) instead, to perform the operation inplace on the original object.\n",
      "\n",
      "\n",
      "  data['Smoking'].replace({\n"
     ]
    },
    {
     "data": {
      "text/plain": [
       "Smoking\n",
       " smoker          37\n",
       "3.0              24\n",
       "Not a smoker    304\n",
       "Unknown          70\n",
       "dtype: int64"
      ]
     },
     "execution_count": 19,
     "metadata": {},
     "output_type": "execute_result"
    }
   ],
   "source": [
    "data['Smoking'].replace({\n",
    "    0:'Non smoker',\n",
    "    1:'Smoker',\n",
    "    2:'Chain Smoker',\n",
    "    3:'Unknown'\n",
    "},inplace=True)\n",
    "data.groupby('Smoking').size()\n"
   ]
  },
  {
   "cell_type": "code",
   "execution_count": 24,
   "metadata": {},
   "outputs": [
    {
     "name": "stdout",
     "output_type": "stream",
     "text": [
      "There is no significant difference in the avereage sleep time for smokers compared to non smokers\n"
     ]
    }
   ],
   "source": [
    "smoker_sleep_time=data[data['Smoking']==' smoker']['SleepTime']\n",
    "not_smoker_sleep_time=data[data['Smoking']=='Not a smoker']['SleepTime']\n",
    "\n",
    "t_stat,p_value=stats.ttest_ind(a=smoker_sleep_time,b=not_smoker_sleep_time)\n",
    "\n",
    "if p_value<0.05:\n",
    "    print('There is a significant difference in the avereage sleep time for smokers compared to non smokers')\n",
    "else:\n",
    "     print('There is no significant difference in the avereage sleep time for smokers compared to non smokers')"
   ]
  },
  {
   "cell_type": "code",
   "execution_count": 25,
   "metadata": {},
   "outputs": [
    {
     "data": {
      "text/plain": [
       "F_onewayResult(statistic=1.1416186919415943, pvalue=0.34136350185916114)"
      ]
     },
     "execution_count": 25,
     "metadata": {},
     "output_type": "execute_result"
    }
   ],
   "source": [
    "#one way anova\n",
    "group1=[85,68,44,55,98,22,53]\n",
    "group2=[63,84,23,45,63,85,77]\n",
    "group3=[46,74,73,82,91,189,45]\n",
    "\n",
    "stats.f_oneway(group1,group2,group3)"
   ]
  },
  {
   "cell_type": "code",
   "execution_count": 33,
   "metadata": {},
   "outputs": [
    {
     "name": "stdout",
     "output_type": "stream",
     "text": [
      "There is no evidence to conclude the difference in averageWritingscores across  based on states\n"
     ]
    }
   ],
   "source": [
    "data.groupby('State').size()\n",
    "\n",
    "#group the state and calculate the means if each score\n",
    "average_scores_by_state=data.groupby('State')[['English','Reading','Math','Writing']].mean()\n",
    "average_scores_by_state\n",
    "\n",
    "#perform ANOVA for each score using a loop\n",
    "for column in average_scores_by_state:\n",
    "   t_stat,p_value= stats.f_oneway(*[list(average_scores_by_state[column])for _,group in average_scores_by_state.groupby('State')])\n",
    "\n",
    "if p_value<0.05:\n",
    "      print(f'There is a statistical significant difference in average{column}scores across states')\n",
    "else:\n",
    "      print(f'There is no evidence to conclude the difference in average{column}scores across  based on states')  "
   ]
  },
  {
   "cell_type": "code",
   "execution_count": 35,
   "metadata": {},
   "outputs": [
    {
     "name": "stdout",
     "output_type": "stream",
     "text": [
      "The mean is significantly evident that they relate\n"
     ]
    }
   ],
   "source": [
    "#ANOVA for column Math,English and Reading\n",
    "t_stat,p_value=stats.f_oneway(data['Math'],data['English'],data['Reading'])\n",
    "\n",
    "if p_value<0.05:\n",
    "    print('The mean is significantly evident that they relate')\n",
    "else:\n",
    "    print('The mean is  not significantly evident that they relate')    "
   ]
  },
  {
   "cell_type": "code",
   "execution_count": 41,
   "metadata": {},
   "outputs": [
    {
     "name": "stdout",
     "output_type": "stream",
     "text": [
      "They have the same/close to the same mean\n"
     ]
    },
    {
     "name": "stderr",
     "output_type": "stream",
     "text": [
      "/home/user/.local/lib/python3.10/site-packages/scipy/stats/_stats_py.py:6988: RuntimeWarning: invalid value encountered in scalar divide\n",
      "  svar = ((n1 - 1) * v1 + (n2 - 1) * v2) / df\n"
     ]
    }
   ],
   "source": [
    "average_sleep_time=data['SleepTime'].mean()\n",
    "average_study_time=data['StudyTime'].mean()\n",
    "\n",
    "t_stat,p_value=stats.ttest_ind(a=average_sleep_time,b=average_study_time)\n",
    "if p_value<0.05:\n",
    "    print('They do not have the same mean')\n",
    "else:\n",
    "    print('They have the same/close to the same mean')    "
   ]
  },
  {
   "cell_type": "code",
   "execution_count": null,
   "metadata": {},
   "outputs": [],
   "source": [
    "#do athletes have higher average writing score compare to none athletes"
   ]
  },
  {
   "cell_type": "code",
   "execution_count": null,
   "metadata": {},
   "outputs": [],
   "source": [
    "#us th"
   ]
  }
 ],
 "metadata": {
  "kernelspec": {
   "display_name": "Python 3",
   "language": "python",
   "name": "python3"
  },
  "language_info": {
   "codemirror_mode": {
    "name": "ipython",
    "version": 3
   },
   "file_extension": ".py",
   "mimetype": "text/x-python",
   "name": "python",
   "nbconvert_exporter": "python",
   "pygments_lexer": "ipython3",
   "version": "3.10.12"
  }
 },
 "nbformat": 4,
 "nbformat_minor": 2
}
